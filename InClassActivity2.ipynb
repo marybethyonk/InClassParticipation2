{
  "metadata": {
    "kernelspec": {
      "name": "python",
      "display_name": "Python (Pyodide)",
      "language": "python"
    },
    "language_info": {
      "codemirror_mode": {
        "name": "python",
        "version": 3
      },
      "file_extension": ".py",
      "mimetype": "text/x-python",
      "name": "python",
      "nbconvert_exporter": "python",
      "pygments_lexer": "ipython3",
      "version": "3.8"
    }
  },
  "nbformat_minor": 4,
  "nbformat": 4,
  "cells": [
    {
      "cell_type": "markdown",
      "source": "# **In Class Assignment 2**",
      "metadata": {}
    },
    {
      "cell_type": "markdown",
      "source": "## *Group 7*: Rommy Sierra, Afeni Laws, Evie Sandeep Ira Davalbhakta, and Marybeth Yonk",
      "metadata": {}
    },
    {
      "cell_type": "markdown",
      "source": "**Definitions:**\n- *temporal*: based on the timing/sequence of certain events\n- *rate*: the frequency of something per unit of time\n- *latency*: the time between the stimulation and onset of response\n- *synchronous*: describes the occurrence of events at the same time\n- *tuning curves*: a graph of responses to different inputs\n- *population codes*: information about a group of neurons and their outputs",
      "metadata": {}
    },
    {
      "cell_type": "markdown",
      "source": "| | **temporal** | **rate** | **latency** | **synchronous** | **tuning curves** | **population codes** | \n|:--------:|:--------:|:--------:|:--------:|:--------:|:--------:|:--------:|\n|  **temporal**   |  -   |  can both change over time, rate is per unit of time and temporal is a unit of time   |  temporal measures are defining characteristics of latency, both are a unit of time  |  temporal measures are defining characteristics of synchronous activities, both are a unit of time  |  temporal characteristics of spikes are shown in tuning curves   | the temporal characteristics of groups of neurons are summed in population codes   |\n|  **rate**   |  -   |  -   | rate is per unit of time, both can change over time, latency is an individual time measure   |  the rate of firing of individual neurons determines if they fire synchronously or not   |  firing rates can be visualized on tuning curves   | the rate of populations are summed and represented in the population codes   |\n|  **latency**   |  -   |  -   | -   |  whether or not a neuron population is firing at the same time is determinant on the latency of response onset, if the latency is the same, then they could fire synchronously   |  latency can be visualized on tuning curves   |  latency dictates the way populations of neurons give outputs  |\n|  **synchronous**   |  -   |  -   | -   |  -   |  synchronous activities of neurons can be visualized in tuning curves   | synchronicity is a characteristic that a group of neurons could have and elicit   |\n|  **tuning curve**   |  -   |  -   |-   |  -  |  -   | tuning curves are represented by population codes   |\n|  **population codes**   |  -   |  -  |-   |  -   |  -   | -   |\n",
      "metadata": {}
    },
    {
      "cell_type": "code",
      "source": "",
      "metadata": {
        "trusted": true
      },
      "outputs": [],
      "execution_count": null
    }
  ]
}